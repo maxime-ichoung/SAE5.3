{
 "cells": [
  {
   "cell_type": "markdown",
   "id": "0a361880",
   "metadata": {},
   "source": [
    "# Reconnaissance faciale via $k$ plus proches voisins ($k$-NN)\n",
    "\n",
    ">## Partie 1: Dataset"
   ]
  },
  {
   "cell_type": "code",
   "execution_count": 3,
   "id": "c3b01c25",
   "metadata": {},
   "outputs": [],
   "source": [
    "import os\n",
    "\n",
    "import pickle\n",
    "import numpy as np\n",
    "\n",
    "import cv2\n",
    "\n",
    "import matplotlib.pyplot as plt"
   ]
  },
  {
   "cell_type": "markdown",
   "id": "9a9f35df",
   "metadata": {},
   "source": [
    "## Librairies"
   ]
  },
  {
   "cell_type": "markdown",
   "id": "d691df55",
   "metadata": {},
   "source": [
    "- La librairie `cv2` permet la détection automatique de visages, entre autres.\n",
    "\n",
    "- La librairie `pickle` permet de sauvegarder vos modèles une fois entraînés, et de les recharger pour pouvoir les utiliser."
   ]
  },
  {
   "cell_type": "markdown",
   "id": "2089bbe3",
   "metadata": {},
   "source": [
    "## Création du dataset"
   ]
  },
  {
   "cell_type": "markdown",
   "id": "b0183880",
   "metadata": {},
   "source": [
    "Le code suivant permet de créer un **dataset** d'images que vous utiliserez dans votre projet de **reconnaissance faciale**. Ce dataset contiendra des images de vous-même associées à votre nom ainsi que des images d'autres personnes (par exemple vos camarades) associées à leurs noms. **À chaque fois que vos relancez le code ci-dessous, votre caméra capture 10 images de la personne qui se trouve devant vootre PC et ajoute ces dernières à votre dataset.** \n",
    "\n",
    "Le code effectue les opérations suivantes. Premièrement, on lit le flux vidéo de votre caméra et on détecte automatiquement les visages dans chaque image de ce flux en utilisant le **classificateur en cascade de Haar (Haar cascade classifier)** de la librairie `OpenCV`. \n",
    "\n",
    "Plus précisément, tant que la variable `ret` est vraie, indiquant que le flux vidéo est lu correctement, pour chaque image capturée par la caméras, on effectue les opérations suivantes:\n",
    "1. on convertit l'image en niveaux de gris;\n",
    "2. on détecte les coordonnées du visage en utilisant le classificateur en cascade de Haar;\n",
    "3. on recadre la région du visage et la redimensionne en $50 \\times 50$ pixels;\n",
    "4. on ajoute l'image du visage redimensionné à la liste `donnees_visage`, à chaque intervalle de $10$ images.\n",
    "\n",
    "Une fois que $10$ images de votre visage ont été collecteés, ou si l'utilisateur appuye sur la touche `Esc`, on met fin à la boucle et enregistre les images dans la liste `donnees_visage` sous forme d'un tableau `NumPy`.\n",
    "\n",
    "Par la suite, l'existence des fichiers `noms.pkl` et `visages.pkl` est vérifiée. S'ils n'existent pas, de nouveaux fichiers sont créés, la variable `nom` est enregistrée dans `noms.pkl` et les données de visage sont enregistrées dans `visages.pkl`. Si ces fichiers existent déjà, le code charge les données existantes, ajoute les nouvelles données de visage et noms, et les réenregistre le tout dans ces fichiers."
   ]
  },
  {
   "cell_type": "code",
   "execution_count": 24,
   "id": "1ba3a98f",
   "metadata": {},
   "outputs": [],
   "source": [
    "# ================== #\n",
    "# Variables globales #\n",
    "# ================== #\n",
    "if not os.path.exists(\"data\"):\n",
    "    os.mkdir(\"data\")         # création d'un répertoire data\n",
    "\n",
    "nb_images_collectees = 10    # nombre d'image que vous voulez collecter\n",
    "\n",
    "donnees_visage = []\n",
    "\n",
    "camera = cv2.VideoCapture(0) # 0 pour 'built-in' caméra, 1 pour caméra externe\n",
    "\n",
    "cascade_visage = cv2.CascadeClassifier(cv2.data.haarcascades + 'haarcascade_frontalface_default.xml')\n",
    "\n",
    "\n",
    "\n",
    "# =============================== #\n",
    "# Capture des data: nom et images #\n",
    "# =============================== #\n",
    "nom = input(\"Entrez votre nom: \")\n",
    "\n",
    "ret = True\n",
    "i = 0\n",
    "\n",
    "while(ret):\n",
    "    \n",
    "    ret, frame = camera.read()\n",
    "    \n",
    "    if ret == True:\n",
    "        \n",
    "        gris = cv2.cvtColor(frame, cv2.COLOR_BGR2GRAY)\n",
    "\n",
    "        coordonnees_visage = cascade_visage.detectMultiScale(gris, 1.3, 4)\n",
    "\n",
    "        for (a, b, w, h) in coordonnees_visage:\n",
    "            \n",
    "            visages = frame[b:b+h, a:a+w, :]\n",
    "            visages_redimensionnes = cv2.resize(visages, (50, 50))\n",
    "            \n",
    "            if i % 10 == 0 and len(donnees_visage) < nb_images_collectees:\n",
    "                \n",
    "                donnees_visage.append(visages_redimensionnes)\n",
    "                \n",
    "            cv2.rectangle(frame, (a, b), (a+w, b+h), (255, 0, 0), 2)\n",
    "            \n",
    "        i += 1\n",
    "\n",
    "        cv2.imshow('Visages', frame)\n",
    "\n",
    "        if cv2.waitKey(1) == 27 or len(donnees_visage) >= nb_images_collectees:\n",
    "            \n",
    "            break\n",
    "    else:\n",
    "        \n",
    "        print('erreur')\n",
    "        break\n",
    "    \n",
    "\n",
    "cv2.destroyAllWindows()\n",
    "camera.release()\n",
    "\n",
    "donnees_visage = np.asarray(donnees_visage)\n",
    "# donnees_visage = donnees_visage.reshape(10, -1)\n",
    "\n",
    "\n",
    "# ====================================== #\n",
    "# Enregistrement des data: nom et images #\n",
    "# ====================================== #\n",
    "if 'noms.pkl' not in os.listdir('data/'):\n",
    "    \n",
    "    noms = [nom]*10\n",
    "    with open('data/noms.pkl', 'wb') as file:\n",
    "        pickle.dump(noms, file)\n",
    "else:\n",
    "    \n",
    "    with open('data/noms.pkl', 'rb') as file:\n",
    "        noms = pickle.load(file)\n",
    "\n",
    "    noms = noms + [nom]*10\n",
    "    with open('data/noms.pkl', 'wb') as file:\n",
    "        pickle.dump(noms, file)\n",
    "\n",
    "\n",
    "if 'visages.pkl' not in os.listdir('data/'):\n",
    "    \n",
    "    with open('data/visages.pkl', 'wb') as w:\n",
    "        pickle.dump(donnees_visage, w)\n",
    "else:\n",
    "    \n",
    "    with open('data/visages.pkl', 'rb') as w:\n",
    "        visages = pickle.load(w)\n",
    "\n",
    "    visages = np.append(visages, donnees_visage, axis=0)\n",
    "    with open('data/visages.pkl', 'wb') as w:\n",
    "        pickle.dump(visages, w)"
   ]
  },
  {
   "cell_type": "markdown",
   "id": "e3bec3e0",
   "metadata": {},
   "source": [
    "## Visualisation du dataset"
   ]
  },
  {
   "cell_type": "markdown",
   "id": "08df3d2c",
   "metadata": {},
   "source": [
    "Le instructions suivantes permettent de loader votre dataset et de comprendre comment sont stockées les data.\n",
    "\n",
    "Prêtez attention aux types de vos data, en particulier à la dimension de vos images, etc."
   ]
  },
  {
   "cell_type": "code",
   "execution_count": 25,
   "id": "c4c5cd3d",
   "metadata": {},
   "outputs": [],
   "source": [
    "with open(\"data/noms.pkl\", \"rb\") as fh:\n",
    "    noms = pickle.load(fh)"
   ]
  },
  {
   "cell_type": "code",
   "execution_count": 26,
   "id": "b3af5a29",
   "metadata": {},
   "outputs": [
    {
     "data": {
      "text/plain": [
       "['admis',\n",
       " 'admis',\n",
       " 'admis',\n",
       " 'admis',\n",
       " 'admis',\n",
       " 'admis',\n",
       " 'admis',\n",
       " 'admis',\n",
       " 'admis',\n",
       " 'admis',\n",
       " 'non_admis',\n",
       " 'non_admis',\n",
       " 'non_admis',\n",
       " 'non_admis',\n",
       " 'non_admis',\n",
       " 'non_admis',\n",
       " 'non_admis',\n",
       " 'non_admis',\n",
       " 'non_admis',\n",
       " 'non_admis',\n",
       " 'admis',\n",
       " 'admis',\n",
       " 'admis',\n",
       " 'admis',\n",
       " 'admis',\n",
       " 'admis',\n",
       " 'admis',\n",
       " 'admis',\n",
       " 'admis',\n",
       " 'admis']"
      ]
     },
     "execution_count": 26,
     "metadata": {},
     "output_type": "execute_result"
    }
   ],
   "source": [
    "noms"
   ]
  },
  {
   "cell_type": "code",
   "execution_count": 27,
   "id": "d7fc242c",
   "metadata": {},
   "outputs": [],
   "source": [
    "with open(\"data/visages.pkl\", \"rb\") as fh:\n",
    "    visages = pickle.load(fh)"
   ]
  },
  {
   "cell_type": "code",
   "execution_count": 28,
   "id": "10dab6d3",
   "metadata": {},
   "outputs": [
    {
     "data": {
      "text/plain": [
       "array([[[[218, 229, 233],\n",
       "         [218, 228, 232],\n",
       "         [ 66,  71,  82],\n",
       "         ...,\n",
       "         [157, 166, 167],\n",
       "         [154, 164, 163],\n",
       "         [153, 163, 162]],\n",
       "\n",
       "        [[213, 226, 229],\n",
       "         [216, 227, 230],\n",
       "         [ 62,  71,  79],\n",
       "         ...,\n",
       "         [147, 156, 158],\n",
       "         [150, 159, 160],\n",
       "         [148, 155, 156]],\n",
       "\n",
       "        [[214, 225, 228],\n",
       "         [199, 208, 211],\n",
       "         [ 55,  65,  74],\n",
       "         ...,\n",
       "         [144, 153, 154],\n",
       "         [144, 153, 154],\n",
       "         [142, 151, 152]],\n",
       "\n",
       "        ...,\n",
       "\n",
       "        [[148, 148, 150],\n",
       "         [131, 132, 131],\n",
       "         [148, 151, 150],\n",
       "         ...,\n",
       "         [114, 116, 117],\n",
       "         [131, 134, 135],\n",
       "         [130, 133, 133]],\n",
       "\n",
       "        [[144, 147, 146],\n",
       "         [134, 137, 136],\n",
       "         [129, 129, 131],\n",
       "         ...,\n",
       "         [145, 149, 151],\n",
       "         [115, 120, 121],\n",
       "         [135, 137, 139]],\n",
       "\n",
       "        [[126, 126, 126],\n",
       "         [128, 128, 128],\n",
       "         [149, 149, 151],\n",
       "         ...,\n",
       "         [144, 146, 148],\n",
       "         [106, 110, 112],\n",
       "         [141, 143, 145]]],\n",
       "\n",
       "\n",
       "       [[[ 48,  56,  91],\n",
       "         [ 48,  56,  91],\n",
       "         [ 47,  55,  90],\n",
       "         ...,\n",
       "         [ 47,  54,  92],\n",
       "         [ 48,  55,  93],\n",
       "         [ 49,  57,  94]],\n",
       "\n",
       "        [[ 47,  56,  89],\n",
       "         [ 48,  56,  91],\n",
       "         [ 47,  55,  90],\n",
       "         ...,\n",
       "         [ 47,  54,  92],\n",
       "         [ 48,  56,  93],\n",
       "         [ 49,  57,  94]],\n",
       "\n",
       "        [[ 47,  55,  88],\n",
       "         [ 47,  55,  90],\n",
       "         [ 48,  55,  90],\n",
       "         ...,\n",
       "         [ 48,  56,  93],\n",
       "         [ 49,  57,  94],\n",
       "         [ 49,  57,  94]],\n",
       "\n",
       "        ...,\n",
       "\n",
       "        [[251, 255, 255],\n",
       "         [251, 255, 255],\n",
       "         [253, 255, 255],\n",
       "         ...,\n",
       "         [ 44,  44,  67],\n",
       "         [ 43,  43,  64],\n",
       "         [ 43,  43,  63]],\n",
       "\n",
       "        [[251, 255, 255],\n",
       "         [251, 255, 255],\n",
       "         [251, 255, 255],\n",
       "         ...,\n",
       "         [ 43,  44,  67],\n",
       "         [ 44,  45,  65],\n",
       "         [ 43,  44,  63]],\n",
       "\n",
       "        [[252, 255, 255],\n",
       "         [251, 255, 255],\n",
       "         [251, 255, 255],\n",
       "         ...,\n",
       "         [ 42,  45,  66],\n",
       "         [ 44,  45,  64],\n",
       "         [ 42,  43,  60]]],\n",
       "\n",
       "\n",
       "       [[[193, 209, 212],\n",
       "         [194, 209, 212],\n",
       "         [196, 211, 214],\n",
       "         ...,\n",
       "         [157, 172, 178],\n",
       "         [157, 173, 176],\n",
       "         [158, 174, 177]],\n",
       "\n",
       "        [[193, 209, 214],\n",
       "         [196, 211, 214],\n",
       "         [196, 210, 214],\n",
       "         ...,\n",
       "         [157, 173, 176],\n",
       "         [157, 173, 176],\n",
       "         [156, 172, 175]],\n",
       "\n",
       "        [[194, 210, 213],\n",
       "         [195, 210, 213],\n",
       "         [195, 210, 213],\n",
       "         ...,\n",
       "         [156, 172, 175],\n",
       "         [155, 171, 174],\n",
       "         [156, 172, 175]],\n",
       "\n",
       "        ...,\n",
       "\n",
       "        [[ 87,  76, 154],\n",
       "         [ 88,  77, 156],\n",
       "         [ 90,  78, 157],\n",
       "         ...,\n",
       "         [155, 171, 173],\n",
       "         [153, 168, 173],\n",
       "         [153, 168, 173]],\n",
       "\n",
       "        [[ 76,  65, 145],\n",
       "         [ 76,  67, 147],\n",
       "         [ 81,  73, 149],\n",
       "         ...,\n",
       "         [159, 173, 174],\n",
       "         [156, 169, 172],\n",
       "         [155, 167, 173]],\n",
       "\n",
       "        [[ 86,  81, 127],\n",
       "         [185, 190, 205],\n",
       "         [146, 152, 158],\n",
       "         ...,\n",
       "         [140, 150, 155],\n",
       "         [140, 153, 156],\n",
       "         [146, 159, 160]]],\n",
       "\n",
       "\n",
       "       ...,\n",
       "\n",
       "\n",
       "       [[[190, 173, 190],\n",
       "         [196, 178, 197],\n",
       "         [199, 181, 201],\n",
       "         ...,\n",
       "         [216, 193, 206],\n",
       "         [215, 193, 204],\n",
       "         [215, 193, 204]],\n",
       "\n",
       "        [[179, 164, 181],\n",
       "         [194, 177, 194],\n",
       "         [198, 181, 200],\n",
       "         ...,\n",
       "         [218, 194, 208],\n",
       "         [217, 193, 207],\n",
       "         [215, 192, 205]],\n",
       "\n",
       "        [[177, 161, 176],\n",
       "         [193, 176, 193],\n",
       "         [197, 180, 197],\n",
       "         ...,\n",
       "         [218, 197, 212],\n",
       "         [218, 195, 208],\n",
       "         [217, 194, 207]],\n",
       "\n",
       "        ...,\n",
       "\n",
       "        [[201, 186, 205],\n",
       "         [202, 187, 206],\n",
       "         [205, 188, 207],\n",
       "         ...,\n",
       "         [181, 156, 176],\n",
       "         [197, 170, 188],\n",
       "         [199, 173, 191]],\n",
       "\n",
       "        [[203, 186, 205],\n",
       "         [201, 186, 205],\n",
       "         [204, 187, 206],\n",
       "         ...,\n",
       "         [184, 158, 173],\n",
       "         [197, 171, 186],\n",
       "         [198, 172, 187]],\n",
       "\n",
       "        [[203, 186, 205],\n",
       "         [203, 186, 205],\n",
       "         [202, 187, 206],\n",
       "         ...,\n",
       "         [207, 177, 191],\n",
       "         [199, 171, 185],\n",
       "         [197, 172, 187]]],\n",
       "\n",
       "\n",
       "       [[[187, 170, 185],\n",
       "         [196, 179, 196],\n",
       "         [201, 183, 203],\n",
       "         ...,\n",
       "         [220, 199, 214],\n",
       "         [218, 197, 212],\n",
       "         [218, 197, 212]],\n",
       "\n",
       "        [[173, 160, 175],\n",
       "         [192, 174, 192],\n",
       "         [201, 184, 201],\n",
       "         ...,\n",
       "         [221, 200, 215],\n",
       "         [220, 199, 214],\n",
       "         [219, 198, 213]],\n",
       "\n",
       "        [[168, 155, 170],\n",
       "         [188, 172, 188],\n",
       "         [200, 182, 200],\n",
       "         ...,\n",
       "         [221, 200, 215],\n",
       "         [221, 200, 215],\n",
       "         [220, 199, 214]],\n",
       "\n",
       "        ...,\n",
       "\n",
       "        [[208, 190, 210],\n",
       "         [211, 191, 211],\n",
       "         [209, 191, 211],\n",
       "         ...,\n",
       "         [ 95,  87, 115],\n",
       "         [197, 177, 196],\n",
       "         [198, 174, 192]],\n",
       "\n",
       "        [[208, 190, 210],\n",
       "         [209, 191, 211],\n",
       "         [211, 191, 211],\n",
       "         ...,\n",
       "         [ 99,  91, 119],\n",
       "         [199, 179, 196],\n",
       "         [198, 174, 192]],\n",
       "\n",
       "        [[209, 190, 210],\n",
       "         [210, 191, 211],\n",
       "         [211, 191, 211],\n",
       "         ...,\n",
       "         [113, 102, 129],\n",
       "         [200, 178, 194],\n",
       "         [198, 174, 191]]],\n",
       "\n",
       "\n",
       "       [[[195, 177, 197],\n",
       "         [203, 186, 205],\n",
       "         [205, 188, 207],\n",
       "         ...,\n",
       "         [218, 197, 212],\n",
       "         [217, 195, 211],\n",
       "         [216, 194, 210]],\n",
       "\n",
       "        [[184, 169, 186],\n",
       "         [199, 181, 200],\n",
       "         [205, 188, 206],\n",
       "         ...,\n",
       "         [219, 198, 213],\n",
       "         [218, 197, 212],\n",
       "         [218, 196, 212]],\n",
       "\n",
       "        [[183, 168, 185],\n",
       "         [197, 180, 199],\n",
       "         [203, 186, 205],\n",
       "         ...,\n",
       "         [221, 200, 215],\n",
       "         [219, 198, 213],\n",
       "         [218, 197, 212]],\n",
       "\n",
       "        ...,\n",
       "\n",
       "        [[213, 196, 215],\n",
       "         [213, 197, 217],\n",
       "         [214, 199, 218],\n",
       "         ...,\n",
       "         [179, 160, 179],\n",
       "         [198, 172, 187],\n",
       "         [198, 171, 189]],\n",
       "\n",
       "        [[213, 197, 217],\n",
       "         [215, 197, 217],\n",
       "         [216, 198, 218],\n",
       "         ...,\n",
       "         [182, 164, 183],\n",
       "         [198, 172, 187],\n",
       "         [198, 171, 189]],\n",
       "\n",
       "        [[213, 197, 217],\n",
       "         [214, 199, 218],\n",
       "         [214, 198, 218],\n",
       "         ...,\n",
       "         [193, 176, 191],\n",
       "         [203, 177, 193],\n",
       "         [201, 175, 191]]]], dtype=uint8)"
      ]
     },
     "execution_count": 28,
     "metadata": {},
     "output_type": "execute_result"
    }
   ],
   "source": [
    "visages"
   ]
  },
  {
   "cell_type": "code",
   "execution_count": 29,
   "id": "a8436555",
   "metadata": {},
   "outputs": [
    {
     "data": {
      "text/plain": [
       "(30, 50, 50, 3)"
      ]
     },
     "execution_count": 29,
     "metadata": {},
     "output_type": "execute_result"
    }
   ],
   "source": [
    "visages.shape"
   ]
  },
  {
   "cell_type": "code",
   "execution_count": 30,
   "id": "1ef19a8e",
   "metadata": {},
   "outputs": [
    {
     "data": {
      "text/plain": [
       "(50, 50, 3)"
      ]
     },
     "execution_count": 30,
     "metadata": {},
     "output_type": "execute_result"
    }
   ],
   "source": [
    "sample_1 = visages[0]\n",
    "sample_1.shape"
   ]
  },
  {
   "cell_type": "code",
   "execution_count": 31,
   "id": "c3539263",
   "metadata": {},
   "outputs": [
    {
     "data": {
      "text/plain": [
       "<matplotlib.image.AxesImage at 0x12fbeb2d0>"
      ]
     },
     "execution_count": 31,
     "metadata": {},
     "output_type": "execute_result"
    },
    {
     "data": {
      "image/png": "[encoded data removed]",
      "text/plain": [
       "<Figure size 640x480 with 1 Axes>"
      ]
     },
     "metadata": {},
     "output_type": "display_data"
    }
   ],
   "source": [
    "plt.imshow(sample_1, interpolation=\"nearest\")"
   ]
  },
  {
   "cell_type": "code",
   "execution_count": 34,
   "id": "ac4aaef1",
   "metadata": {},
   "outputs": [
    {
     "data": {
      "text/plain": [
       "(50, 50, 3)"
      ]
     },
     "execution_count": 34,
     "metadata": {},
     "output_type": "execute_result"
    }
   ],
   "source": [
    "sample_2 = visages[22]\n",
    "sample_2.shape"
   ]
  },
  {
   "cell_type": "code",
   "execution_count": 35,
   "id": "ed489bfa",
   "metadata": {},
   "outputs": [
    {
     "data": {
      "text/plain": [
       "<matplotlib.image.AxesImage at 0x12fcb5390>"
      ]
     },
     "execution_count": 35,
     "metadata": {},
     "output_type": "execute_result"
    },
    {
     "data": {
      "image/png": "[encoded data removed]",
      "text/plain": [
       "<Figure size 640x480 with 1 Axes>"
      ]
     },
     "metadata": {},
     "output_type": "display_data"
    }
   ],
   "source": [
    "plt.imshow(sample_2, interpolation=\"nearest\")"
   ]
  },
  {
   "cell_type": "code",
   "execution_count": null,
   "id": "06a26147",
   "metadata": {},
   "outputs": [],
   "source": []
  }
 ],
 "metadata": {
  "kernelspec": {
   "display_name": "Python 3",
   "language": "python",
   "name": "python3"
  },
  "language_info": {
   "codemirror_mode": {
    "name": "ipython",
    "version": 3
   },
   "file_extension": ".py",
   "mimetype": "text/x-python",
   "name": "python",
   "nbconvert_exporter": "python",
   "pygments_lexer": "ipython3",
   "version": "3.11.8"
  }
 },
 "nbformat": 4,
 "nbformat_minor": 5
}
