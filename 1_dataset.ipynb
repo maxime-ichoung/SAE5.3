{
 "cells": [
  {
   "cell_type": "markdown",
   "id": "0a361880",
   "metadata": {},
   "source": [
    "# Reconnaissance faciale via $k$ plus proches voisins ($k$-NN)\n",
    "\n",
    ">## Partie 1: Dataset"
   ]
  },
  {
   "cell_type": "code",
   "execution_count": 19,
   "id": "c3b01c25",
   "metadata": {},
   "outputs": [],
   "source": [
    "import os\n",
    "\n",
    "import pickle\n",
    "import numpy as np\n",
    "\n",
    "import cv2\n",
    "\n",
    "import matplotlib.pyplot as plt"
   ]
  },
  {
   "cell_type": "markdown",
   "id": "9a9f35df",
   "metadata": {},
   "source": [
    "## Librairies"
   ]
  },
  {
   "cell_type": "markdown",
   "id": "d691df55",
   "metadata": {},
   "source": [
    "- La librairie `cv2` permet la détection automatique de visages, entre autres.\n",
    "\n",
    "- La librairie `pickle` permet de sauvegarder vos modèles une fois entraînés, et de les recharger pour pouvoir les utiliser."
   ]
  },
  {
   "cell_type": "markdown",
   "id": "2089bbe3",
   "metadata": {},
   "source": [
    "## Création du dataset"
   ]
  },
  {
   "cell_type": "markdown",
   "id": "b0183880",
   "metadata": {},
   "source": [
    "Le code suivant permet de créer un **dataset** d'images que vous utiliserez dans votre projet de **reconnaissance faciale**. Ce dataset contiendra des images de vous-même associées à votre nom ainsi que des images d'autres personnes (par exemple vos camarades) associées à leurs noms. **À chaque fois que vos relancez le code ci-dessous, votre caméra capture 10 images de la personne qui se trouve devant vootre PC et ajoute ces dernières à votre dataset.** \n",
    "\n",
    "Le code effectue les opérations suivantes. Premièrement, on lit le flux vidéo de votre caméra et on détecte automatiquement les visages dans chaque image de ce flux en utilisant le **classificateur en cascade de Haar (Haar cascade classifier)** de la librairie `OpenCV`. \n",
    "\n",
    "Plus précisément, tant que la variable `ret` est vraie, indiquant que le flux vidéo est lu correctement, pour chaque image capturée par la caméras, on effectue les opérations suivantes:\n",
    "1. on convertit l'image en niveaux de gris;\n",
    "2. on détecte les coordonnées du visage en utilisant le classificateur en cascade de Haar;\n",
    "3. on recadre la région du visage et la redimensionne en $50 \\times 50$ pixels;\n",
    "4. on ajoute l'image du visage redimensionné à la liste `donnees_visage`, à chaque intervalle de $10$ images.\n",
    "\n",
    "Une fois que $10$ images de votre visage ont été collecteés, ou si l'utilisateur appuye sur la touche `Esc`, on met fin à la boucle et enregistre les images dans la liste `donnees_visage` sous forme d'un tableau `NumPy`.\n",
    "\n",
    "Par la suite, l'existence des fichiers `noms.pkl` et `visages.pkl` est vérifiée. S'ils n'existent pas, de nouveaux fichiers sont créés, la variable `nom` est enregistrée dans `noms.pkl` et les données de visage sont enregistrées dans `visages.pkl`. Si ces fichiers existent déjà, le code charge les données existantes, ajoute les nouvelles données de visage et noms, et les réenregistre le tout dans ces fichiers."
   ]
  },
  {
   "cell_type": "code",
   "execution_count": 4,
   "id": "1ba3a98f",
   "metadata": {},
   "outputs": [],
   "source": [
    "# ================== #\n",
    "# Variables globales #\n",
    "# ================== #\n",
    "if not os.path.exists(\"data\"):\n",
    "    os.mkdir(\"data\")         # création d'un répertoire data\n",
    "\n",
    "nb_images_collectees = 10    # nombre d'image que vous voulez collecter\n",
    "\n",
    "donnees_visage = []\n",
    "\n",
    "camera = cv2.VideoCapture(0) # 0 pour 'built-in' caméra, 1 pour caméra externe\n",
    "\n",
    "cascade_visage = cv2.CascadeClassifier(cv2.data.haarcascades + 'haarcascade_frontalface_default.xml')\n",
    "\n",
    "\n",
    "\n",
    "# =============================== #\n",
    "# Capture des data: nom et images #\n",
    "# =============================== #\n",
    "nom = input(\"Entrez votre nom: \")\n",
    "\n",
    "ret = True\n",
    "i = 0\n",
    "\n",
    "while(ret):\n",
    "    \n",
    "    ret, frame = camera.read()\n",
    "    \n",
    "    if ret == True:\n",
    "        \n",
    "        gris = cv2.cvtColor(frame, cv2.COLOR_BGR2GRAY)\n",
    "\n",
    "        coordonnees_visage = cascade_visage.detectMultiScale(gris, 1.3, 4)\n",
    "\n",
    "        for (a, b, w, h) in coordonnees_visage:\n",
    "            \n",
    "            visages = frame[b:b+h, a:a+w, :]\n",
    "            visages_redimensionnes = cv2.resize(visages, (50, 50))\n",
    "            \n",
    "            if i % 10 == 0 and len(donnees_visage) < nb_images_collectees:\n",
    "                \n",
    "                donnees_visage.append(visages_redimensionnes)\n",
    "                \n",
    "            cv2.rectangle(frame, (a, b), (a+w, b+h), (255, 0, 0), 2)\n",
    "            \n",
    "        i += 1\n",
    "\n",
    "        cv2.imshow('Visages', frame)\n",
    "\n",
    "        if cv2.waitKey(1) == 27 or len(donnees_visage) >= nb_images_collectees:\n",
    "            \n",
    "            break\n",
    "    else:\n",
    "        \n",
    "        print('erreur')\n",
    "        break\n",
    "    \n",
    "\n",
    "cv2.destroyAllWindows()\n",
    "camera.release()\n",
    "\n",
    "donnees_visage = np.asarray(donnees_visage)\n",
    "# donnees_visage = donnees_visage.reshape(10, -1)\n",
    "\n",
    "\n",
    "# ====================================== #\n",
    "# Enregistrement des data: nom et images #\n",
    "# ====================================== #\n",
    "if 'noms.pkl' not in os.listdir('data/'):\n",
    "    \n",
    "    noms = [nom]*10\n",
    "    with open('data/noms.pkl', 'wb') as file:\n",
    "        pickle.dump(noms, file)\n",
    "else:\n",
    "    \n",
    "    with open('data/noms.pkl', 'rb') as file:\n",
    "        noms = pickle.load(file)\n",
    "\n",
    "    noms = noms + [nom]*10\n",
    "    with open('data/noms.pkl', 'wb') as file:\n",
    "        pickle.dump(noms, file)\n",
    "\n",
    "\n",
    "if 'visages.pkl' not in os.listdir('data/'):\n",
    "    \n",
    "    with open('data/visages.pkl', 'wb') as w:\n",
    "        pickle.dump(donnees_visage, w)\n",
    "else:\n",
    "    \n",
    "    with open('data/visages.pkl', 'rb') as w:\n",
    "        visages = pickle.load(w)\n",
    "\n",
    "    visages = np.append(visages, donnees_visage, axis=0)\n",
    "    with open('data/visages.pkl', 'wb') as w:\n",
    "        pickle.dump(visages, w)"
   ]
  },
  {
   "cell_type": "markdown",
   "id": "e3bec3e0",
   "metadata": {},
   "source": [
    "## Visualisation du dataset"
   ]
  },
  {
   "cell_type": "markdown",
   "id": "08df3d2c",
   "metadata": {},
   "source": [
    "Le instructions suivantes permettent de loader votre dataset et de comprendre comment sont stockées les data.\n",
    "\n",
    "Prêtez attention aux types de vos data, en particulier à la dimension de vos images, etc."
   ]
  },
  {
   "cell_type": "code",
   "execution_count": 5,
   "id": "c4c5cd3d",
   "metadata": {},
   "outputs": [],
   "source": [
    "with open(\"data/noms.pkl\", \"rb\") as fh:\n",
    "    noms = pickle.load(fh)"
   ]
  },
  {
   "cell_type": "code",
   "execution_count": 6,
   "id": "b3af5a29",
   "metadata": {},
   "outputs": [
    {
     "data": {
      "text/plain": [
       "['maxime',\n",
       " 'maxime',\n",
       " 'maxime',\n",
       " 'maxime',\n",
       " 'maxime',\n",
       " 'maxime',\n",
       " 'maxime',\n",
       " 'maxime',\n",
       " 'maxime',\n",
       " 'maxime']"
      ]
     },
     "execution_count": 6,
     "metadata": {},
     "output_type": "execute_result"
    }
   ],
   "source": [
    "noms"
   ]
  },
  {
   "cell_type": "code",
   "execution_count": 7,
   "id": "d7fc242c",
   "metadata": {},
   "outputs": [],
   "source": [
    "with open(\"data/visages.pkl\", \"rb\") as fh:\n",
    "    visages = pickle.load(fh)"
   ]
  },
  {
   "cell_type": "code",
   "execution_count": 8,
   "id": "10dab6d3",
   "metadata": {},
   "outputs": [
    {
     "data": {
      "text/plain": [
       "array([[[[  7,   8,   9],\n",
       "         [  8,   8,   9],\n",
       "         [  8,   7,   8],\n",
       "         ...,\n",
       "         [  7,   5,   7],\n",
       "         [  9,   9,  10],\n",
       "         [ 17,  17,  20]],\n",
       "\n",
       "        [[  9,  11,  12],\n",
       "         [  9,  10,  11],\n",
       "         [  9,   8,   9],\n",
       "         ...,\n",
       "         [  5,   6,   7],\n",
       "         [ 11,  12,  13],\n",
       "         [ 50,  50,  48]],\n",
       "\n",
       "        [[ 14,  16,  17],\n",
       "         [ 15,  15,  17],\n",
       "         [  8,   7,   8],\n",
       "         ...,\n",
       "         [  6,   7,   8],\n",
       "         [  9,   9,  10],\n",
       "         [ 83,  81,  81]],\n",
       "\n",
       "        ...,\n",
       "\n",
       "        [[ 17,  16,  17],\n",
       "         [ 16,  15,  16],\n",
       "         [ 12,  13,  14],\n",
       "         ...,\n",
       "         [ 17,  15,  19],\n",
       "         [ 19,  17,  22],\n",
       "         [ 26,  23,  31]],\n",
       "\n",
       "        [[ 19,  18,  19],\n",
       "         [ 15,  15,  15],\n",
       "         [ 14,  13,  14],\n",
       "         ...,\n",
       "         [ 18,  16,  22],\n",
       "         [ 19,  17,  23],\n",
       "         [ 23,  21,  27]],\n",
       "\n",
       "        [[ 19,  17,  19],\n",
       "         [ 15,  14,  15],\n",
       "         [ 13,  11,  13],\n",
       "         ...,\n",
       "         [ 15,  13,  19],\n",
       "         [ 16,  14,  20],\n",
       "         [ 21,  19,  25]]],\n",
       "\n",
       "\n",
       "       [[[117, 121, 108],\n",
       "         [ 24,  25,  23],\n",
       "         [ 14,  13,  13],\n",
       "         ...,\n",
       "         [  8,   7,   8],\n",
       "         [  8,   8,   8],\n",
       "         [ 10,   9,  10]],\n",
       "\n",
       "        [[ 11,   8,   9],\n",
       "         [ 23,  22,  24],\n",
       "         [ 18,  18,  20],\n",
       "         ...,\n",
       "         [  8,   7,   8],\n",
       "         [  9,   8,   9],\n",
       "         [ 10,  11,  12]],\n",
       "\n",
       "        [[ 11,  10,  15],\n",
       "         [ 15,  16,  19],\n",
       "         [ 23,  25,  26],\n",
       "         ...,\n",
       "         [  8,   7,   8],\n",
       "         [ 11,  11,  13],\n",
       "         [ 14,  15,  16]],\n",
       "\n",
       "        ...,\n",
       "\n",
       "        [[ 19,  20,  21],\n",
       "         [ 21,  20,  19],\n",
       "         [ 22,  21,  22],\n",
       "         ...,\n",
       "         [ 34,  31,  33],\n",
       "         [ 30,  28,  32],\n",
       "         [ 22,  20,  22]],\n",
       "\n",
       "        [[ 22,  22,  23],\n",
       "         [ 22,  21,  21],\n",
       "         [ 23,  21,  23],\n",
       "         ...,\n",
       "         [ 26,  26,  27],\n",
       "         [ 24,  23,  25],\n",
       "         [ 20,  20,  21]],\n",
       "\n",
       "        [[ 29,  30,  29],\n",
       "         [ 27,  25,  27],\n",
       "         [ 22,  21,  22],\n",
       "         ...,\n",
       "         [ 19,  18,  22],\n",
       "         [ 28,  26,  30],\n",
       "         [ 23,  21,  24]]],\n",
       "\n",
       "\n",
       "       [[[  5,   6,   7],\n",
       "         [  4,   4,   6],\n",
       "         [  6,   6,   7],\n",
       "         ...,\n",
       "         [ 21,  21,  22],\n",
       "         [141, 143, 137],\n",
       "         [149, 149, 143]],\n",
       "\n",
       "        [[  7,   8,   9],\n",
       "         [  5,   6,   7],\n",
       "         [  9,   8,   9],\n",
       "         ...,\n",
       "         [ 54,  55,  52],\n",
       "         [143, 146, 139],\n",
       "         [148, 151, 139]],\n",
       "\n",
       "        [[  7,   7,   8],\n",
       "         [  8,   9,  10],\n",
       "         [  9,  10,  11],\n",
       "         ...,\n",
       "         [ 29,  28,  25],\n",
       "         [129, 128, 118],\n",
       "         [153, 149, 142]],\n",
       "\n",
       "        ...,\n",
       "\n",
       "        [[ 25,  24,  24],\n",
       "         [ 21,  19,  21],\n",
       "         [ 17,  16,  17],\n",
       "         ...,\n",
       "         [ 27,  28,  32],\n",
       "         [ 30,  33,  37],\n",
       "         [ 24,  25,  26]],\n",
       "\n",
       "        [[ 22,  21,  22],\n",
       "         [ 17,  17,  18],\n",
       "         [ 15,  15,  16],\n",
       "         ...,\n",
       "         [ 34,  37,  40],\n",
       "         [ 36,  40,  45],\n",
       "         [ 27,  29,  33]],\n",
       "\n",
       "        [[ 23,  22,  22],\n",
       "         [ 17,  16,  17],\n",
       "         [ 16,  15,  15],\n",
       "         ...,\n",
       "         [ 30,  32,  36],\n",
       "         [ 33,  34,  40],\n",
       "         [ 31,  35,  38]]],\n",
       "\n",
       "\n",
       "       ...,\n",
       "\n",
       "\n",
       "       [[[155, 155, 149],\n",
       "         [156, 156, 150],\n",
       "         [ 28,  27,  25],\n",
       "         ...,\n",
       "         [  9,  10,  11],\n",
       "         [ 16,  15,  14],\n",
       "         [ 57,  54,  50]],\n",
       "\n",
       "        [[ 52,  43,  45],\n",
       "         [ 56,  48,  52],\n",
       "         [ 51,  50,  50],\n",
       "         ...,\n",
       "         [  8,   9,  10],\n",
       "         [ 11,   9,  11],\n",
       "         [ 19,  19,  20]],\n",
       "\n",
       "        [[ 10,  10,  13],\n",
       "         [ 17,  17,  21],\n",
       "         [ 30,  31,  33],\n",
       "         ...,\n",
       "         [  9,   8,   9],\n",
       "         [ 10,  11,  12],\n",
       "         [ 19,  20,  21]],\n",
       "\n",
       "        ...,\n",
       "\n",
       "        [[ 25,  24,  26],\n",
       "         [ 21,  21,  22],\n",
       "         [ 22,  20,  22],\n",
       "         ...,\n",
       "         [ 37,  41,  48],\n",
       "         [ 43,  43,  49],\n",
       "         [ 32,  32,  39]],\n",
       "\n",
       "        [[ 24,  23,  24],\n",
       "         [ 23,  22,  23],\n",
       "         [ 21,  22,  23],\n",
       "         ...,\n",
       "         [ 40,  41,  45],\n",
       "         [ 43,  43,  50],\n",
       "         [ 26,  29,  34]],\n",
       "\n",
       "        [[ 25,  24,  24],\n",
       "         [ 22,  21,  22],\n",
       "         [ 20,  18,  19],\n",
       "         ...,\n",
       "         [ 43,  43,  47],\n",
       "         [ 46,  48,  52],\n",
       "         [ 35,  35,  41]]],\n",
       "\n",
       "\n",
       "       [[[155, 156, 150],\n",
       "         [159, 159, 155],\n",
       "         [ 16,  16,  17],\n",
       "         ...,\n",
       "         [  9,   9,  10],\n",
       "         [ 10,  10,  10],\n",
       "         [ 80,  80,  80]],\n",
       "\n",
       "        [[135, 130, 127],\n",
       "         [131, 129, 129],\n",
       "         [ 55,  54,  54],\n",
       "         ...,\n",
       "         [  9,  10,  11],\n",
       "         [ 12,  10,  11],\n",
       "         [ 24,  23,  23]],\n",
       "\n",
       "        [[ 13,  12,  15],\n",
       "         [ 19,  17,  22],\n",
       "         [ 33,  35,  38],\n",
       "         ...,\n",
       "         [  8,   9,  10],\n",
       "         [ 13,  10,  12],\n",
       "         [ 18,  17,  18]],\n",
       "\n",
       "        ...,\n",
       "\n",
       "        [[ 26,  25,  26],\n",
       "         [ 23,  21,  23],\n",
       "         [ 20,  19,  20],\n",
       "         ...,\n",
       "         [ 41,  43,  53],\n",
       "         [ 38,  41,  45],\n",
       "         [ 33,  35,  42]],\n",
       "\n",
       "        [[ 26,  24,  25],\n",
       "         [ 23,  22,  23],\n",
       "         [ 24,  23,  24],\n",
       "         ...,\n",
       "         [ 37,  39,  42],\n",
       "         [ 39,  44,  46],\n",
       "         [ 29,  30,  34]],\n",
       "\n",
       "        [[ 26,  25,  25],\n",
       "         [ 22,  21,  22],\n",
       "         [ 19,  18,  20],\n",
       "         ...,\n",
       "         [ 40,  43,  45],\n",
       "         [ 45,  47,  51],\n",
       "         [ 35,  36,  39]]],\n",
       "\n",
       "\n",
       "       [[[155, 153, 150],\n",
       "         [157, 154, 151],\n",
       "         [ 13,  13,  14],\n",
       "         ...,\n",
       "         [  9,   9,   8],\n",
       "         [ 15,  15,  14],\n",
       "         [ 62,  64,  63]],\n",
       "\n",
       "        [[132, 130, 129],\n",
       "         [131, 129, 129],\n",
       "         [ 38,  38,  39],\n",
       "         ...,\n",
       "         [  9,   9,  10],\n",
       "         [ 12,  10,  12],\n",
       "         [ 24,  24,  25]],\n",
       "\n",
       "        [[ 12,  12,  16],\n",
       "         [ 19,  19,  26],\n",
       "         [ 31,  34,  35],\n",
       "         ...,\n",
       "         [  7,   8,   9],\n",
       "         [ 10,  11,  12],\n",
       "         [ 17,  15,  17]],\n",
       "\n",
       "        ...,\n",
       "\n",
       "        [[ 25,  23,  24],\n",
       "         [ 21,  19,  21],\n",
       "         [ 20,  19,  20],\n",
       "         ...,\n",
       "         [ 42,  43,  54],\n",
       "         [ 39,  40,  47],\n",
       "         [ 33,  35,  40]],\n",
       "\n",
       "        [[ 24,  23,  24],\n",
       "         [ 22,  21,  22],\n",
       "         [ 22,  20,  22],\n",
       "         ...,\n",
       "         [ 37,  39,  46],\n",
       "         [ 40,  42,  48],\n",
       "         [ 27,  29,  35]],\n",
       "\n",
       "        [[ 26,  24,  26],\n",
       "         [ 22,  21,  22],\n",
       "         [ 21,  19,  21],\n",
       "         ...,\n",
       "         [ 43,  43,  48],\n",
       "         [ 46,  47,  54],\n",
       "         [ 33,  33,  39]]]], dtype=uint8)"
      ]
     },
     "execution_count": 8,
     "metadata": {},
     "output_type": "execute_result"
    }
   ],
   "source": [
    "visages"
   ]
  },
  {
   "cell_type": "code",
   "execution_count": 9,
   "id": "a8436555",
   "metadata": {},
   "outputs": [
    {
     "data": {
      "text/plain": [
       "(10, 50, 50, 3)"
      ]
     },
     "execution_count": 9,
     "metadata": {},
     "output_type": "execute_result"
    }
   ],
   "source": [
    "visages.shape"
   ]
  },
  {
   "cell_type": "code",
   "execution_count": 17,
   "id": "1ef19a8e",
   "metadata": {},
   "outputs": [
    {
     "data": {
      "text/plain": [
       "(50, 50, 3)"
      ]
     },
     "execution_count": 17,
     "metadata": {},
     "output_type": "execute_result"
    }
   ],
   "source": [
    "sample_1 = visages[0]\n",
    "sample_1.shape"
   ]
  },
  {
   "cell_type": "code",
   "execution_count": 20,
   "id": "c3539263",
   "metadata": {},
   "outputs": [
    {
     "data": {
      "text/plain": [
       "<matplotlib.image.AxesImage at 0x266bf093f50>"
      ]
     },
     "execution_count": 20,
     "metadata": {},
     "output_type": "execute_result"
    },
    {
     "data": {
      "image/png": "[encoded data removed]",
      "text/plain": [
       "<Figure size 640x480 with 1 Axes>"
      ]
     },
     "metadata": {},
     "output_type": "display_data"
    }
   ],
   "source": [
    "plt.imshow(sample_1, interpolation=\"nearest\")"
   ]
  },
  {
   "cell_type": "code",
   "execution_count": 21,
   "id": "ac4aaef1",
   "metadata": {},
   "outputs": [
    {
     "data": {
      "text/plain": [
       "(50, 50, 3)"
      ]
     },
     "execution_count": 21,
     "metadata": {},
     "output_type": "execute_result"
    }
   ],
   "source": [
    "sample_2 = visages[5]\n",
    "sample_2.shape"
   ]
  },
  {
   "cell_type": "code",
   "execution_count": 22,
   "id": "ed489bfa",
   "metadata": {},
   "outputs": [
    {
     "data": {
      "text/plain": [
       "<matplotlib.image.AxesImage at 0x266bf45ee50>"
      ]
     },
     "execution_count": 22,
     "metadata": {},
     "output_type": "execute_result"
    },
    {
     "data": {
      "image/png": "[encoded data removed]",
      "text/plain": [
       "<Figure size 640x480 with 1 Axes>"
      ]
     },
     "metadata": {},
     "output_type": "display_data"
    }
   ],
   "source": [
    "plt.imshow(sample_2, interpolation=\"nearest\")"
   ]
  },
  {
   "cell_type": "code",
   "execution_count": null,
   "id": "06a26147",
   "metadata": {},
   "outputs": [],
   "source": []
  }
 ],
 "metadata": {
  "kernelspec": {
   "display_name": "Python 3",
   "language": "python",
   "name": "python3"
  },
  "language_info": {
   "codemirror_mode": {
    "name": "ipython",
    "version": 3
   },
   "file_extension": ".py",
   "mimetype": "text/x-python",
   "name": "python",
   "nbconvert_exporter": "python",
   "pygments_lexer": "ipython3",
   "version": "3.11.8"
  }
 },
 "nbformat": 4,
 "nbformat_minor": 5
}
